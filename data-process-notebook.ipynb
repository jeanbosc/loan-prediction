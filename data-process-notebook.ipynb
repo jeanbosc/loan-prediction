{
 "cells": [
  {
   "cell_type": "code",
   "execution_count": 187,
   "metadata": {},
   "outputs": [],
   "source": [
    "import numpy as np\n",
    "import pandas as pd\n",
    "import matplotlib as plt\n",
    "import seaborn as sns\n",
    "from sklearn.preprocessing import MinMaxScaler\n",
    "from sklearn.impute import KNNImputer\n",
    "from sklearn.preprocessing import LabelEncoder\n",
    "%matplotlib inline\n",
    "pd.set_option('future.no_silent_downcasting', True)"
   ]
  },
  {
   "cell_type": "code",
   "execution_count": 188,
   "metadata": {},
   "outputs": [
    {
     "data": {
      "application/vnd.microsoft.datawrangler.viewer.v0+json": {
       "columns": [
        {
         "name": "index",
         "rawType": "int64",
         "type": "integer"
        },
        {
         "name": "Loan_ID",
         "rawType": "object",
         "type": "string"
        },
        {
         "name": "Gender",
         "rawType": "object",
         "type": "string"
        },
        {
         "name": "Married",
         "rawType": "object",
         "type": "string"
        },
        {
         "name": "Dependents",
         "rawType": "object",
         "type": "string"
        },
        {
         "name": "Education",
         "rawType": "object",
         "type": "string"
        },
        {
         "name": "Self_Employed",
         "rawType": "object",
         "type": "string"
        },
        {
         "name": "ApplicantIncome",
         "rawType": "int64",
         "type": "integer"
        },
        {
         "name": "CoapplicantIncome",
         "rawType": "float64",
         "type": "float"
        },
        {
         "name": "LoanAmount",
         "rawType": "float64",
         "type": "float"
        },
        {
         "name": "Loan_Amount_Term",
         "rawType": "float64",
         "type": "float"
        },
        {
         "name": "Credit_History",
         "rawType": "float64",
         "type": "float"
        },
        {
         "name": "Property_Area",
         "rawType": "object",
         "type": "string"
        },
        {
         "name": "Loan_Status",
         "rawType": "object",
         "type": "string"
        }
       ],
       "conversionMethod": "pd.DataFrame",
       "ref": "1cbda357-37b7-426c-ac72-096e311d600f",
       "rows": [
        [
         "0",
         "LP001002",
         "Male",
         "No",
         "0",
         "Graduate",
         "No",
         "5849",
         "0.0",
         null,
         "360.0",
         "1.0",
         "Urban",
         "Y"
        ],
        [
         "1",
         "LP001003",
         "Male",
         "Yes",
         "1",
         "Graduate",
         "No",
         "4583",
         "1508.0",
         "128.0",
         "360.0",
         "1.0",
         "Rural",
         "N"
        ],
        [
         "2",
         "LP001005",
         "Male",
         "Yes",
         "0",
         "Graduate",
         "Yes",
         "3000",
         "0.0",
         "66.0",
         "360.0",
         "1.0",
         "Urban",
         "Y"
        ],
        [
         "3",
         "LP001006",
         "Male",
         "Yes",
         "0",
         "Not Graduate",
         "No",
         "2583",
         "2358.0",
         "120.0",
         "360.0",
         "1.0",
         "Urban",
         "Y"
        ],
        [
         "4",
         "LP001008",
         "Male",
         "No",
         "0",
         "Graduate",
         "No",
         "6000",
         "0.0",
         "141.0",
         "360.0",
         "1.0",
         "Urban",
         "Y"
        ]
       ],
       "shape": {
        "columns": 13,
        "rows": 5
       }
      },
      "text/html": [
       "<div>\n",
       "<style scoped>\n",
       "    .dataframe tbody tr th:only-of-type {\n",
       "        vertical-align: middle;\n",
       "    }\n",
       "\n",
       "    .dataframe tbody tr th {\n",
       "        vertical-align: top;\n",
       "    }\n",
       "\n",
       "    .dataframe thead th {\n",
       "        text-align: right;\n",
       "    }\n",
       "</style>\n",
       "<table border=\"1\" class=\"dataframe\">\n",
       "  <thead>\n",
       "    <tr style=\"text-align: right;\">\n",
       "      <th></th>\n",
       "      <th>Loan_ID</th>\n",
       "      <th>Gender</th>\n",
       "      <th>Married</th>\n",
       "      <th>Dependents</th>\n",
       "      <th>Education</th>\n",
       "      <th>Self_Employed</th>\n",
       "      <th>ApplicantIncome</th>\n",
       "      <th>CoapplicantIncome</th>\n",
       "      <th>LoanAmount</th>\n",
       "      <th>Loan_Amount_Term</th>\n",
       "      <th>Credit_History</th>\n",
       "      <th>Property_Area</th>\n",
       "      <th>Loan_Status</th>\n",
       "    </tr>\n",
       "  </thead>\n",
       "  <tbody>\n",
       "    <tr>\n",
       "      <th>0</th>\n",
       "      <td>LP001002</td>\n",
       "      <td>Male</td>\n",
       "      <td>No</td>\n",
       "      <td>0</td>\n",
       "      <td>Graduate</td>\n",
       "      <td>No</td>\n",
       "      <td>5849</td>\n",
       "      <td>0.0</td>\n",
       "      <td>NaN</td>\n",
       "      <td>360.0</td>\n",
       "      <td>1.0</td>\n",
       "      <td>Urban</td>\n",
       "      <td>Y</td>\n",
       "    </tr>\n",
       "    <tr>\n",
       "      <th>1</th>\n",
       "      <td>LP001003</td>\n",
       "      <td>Male</td>\n",
       "      <td>Yes</td>\n",
       "      <td>1</td>\n",
       "      <td>Graduate</td>\n",
       "      <td>No</td>\n",
       "      <td>4583</td>\n",
       "      <td>1508.0</td>\n",
       "      <td>128.0</td>\n",
       "      <td>360.0</td>\n",
       "      <td>1.0</td>\n",
       "      <td>Rural</td>\n",
       "      <td>N</td>\n",
       "    </tr>\n",
       "    <tr>\n",
       "      <th>2</th>\n",
       "      <td>LP001005</td>\n",
       "      <td>Male</td>\n",
       "      <td>Yes</td>\n",
       "      <td>0</td>\n",
       "      <td>Graduate</td>\n",
       "      <td>Yes</td>\n",
       "      <td>3000</td>\n",
       "      <td>0.0</td>\n",
       "      <td>66.0</td>\n",
       "      <td>360.0</td>\n",
       "      <td>1.0</td>\n",
       "      <td>Urban</td>\n",
       "      <td>Y</td>\n",
       "    </tr>\n",
       "    <tr>\n",
       "      <th>3</th>\n",
       "      <td>LP001006</td>\n",
       "      <td>Male</td>\n",
       "      <td>Yes</td>\n",
       "      <td>0</td>\n",
       "      <td>Not Graduate</td>\n",
       "      <td>No</td>\n",
       "      <td>2583</td>\n",
       "      <td>2358.0</td>\n",
       "      <td>120.0</td>\n",
       "      <td>360.0</td>\n",
       "      <td>1.0</td>\n",
       "      <td>Urban</td>\n",
       "      <td>Y</td>\n",
       "    </tr>\n",
       "    <tr>\n",
       "      <th>4</th>\n",
       "      <td>LP001008</td>\n",
       "      <td>Male</td>\n",
       "      <td>No</td>\n",
       "      <td>0</td>\n",
       "      <td>Graduate</td>\n",
       "      <td>No</td>\n",
       "      <td>6000</td>\n",
       "      <td>0.0</td>\n",
       "      <td>141.0</td>\n",
       "      <td>360.0</td>\n",
       "      <td>1.0</td>\n",
       "      <td>Urban</td>\n",
       "      <td>Y</td>\n",
       "    </tr>\n",
       "  </tbody>\n",
       "</table>\n",
       "</div>"
      ],
      "text/plain": [
       "    Loan_ID Gender Married Dependents     Education Self_Employed  \\\n",
       "0  LP001002   Male      No          0      Graduate            No   \n",
       "1  LP001003   Male     Yes          1      Graduate            No   \n",
       "2  LP001005   Male     Yes          0      Graduate           Yes   \n",
       "3  LP001006   Male     Yes          0  Not Graduate            No   \n",
       "4  LP001008   Male      No          0      Graduate            No   \n",
       "\n",
       "   ApplicantIncome  CoapplicantIncome  LoanAmount  Loan_Amount_Term  \\\n",
       "0             5849                0.0         NaN             360.0   \n",
       "1             4583             1508.0       128.0             360.0   \n",
       "2             3000                0.0        66.0             360.0   \n",
       "3             2583             2358.0       120.0             360.0   \n",
       "4             6000                0.0       141.0             360.0   \n",
       "\n",
       "   Credit_History Property_Area Loan_Status  \n",
       "0             1.0         Urban           Y  \n",
       "1             1.0         Rural           N  \n",
       "2             1.0         Urban           Y  \n",
       "3             1.0         Urban           Y  \n",
       "4             1.0         Urban           Y  "
      ]
     },
     "metadata": {},
     "output_type": "display_data"
    },
    {
     "data": {
      "application/vnd.microsoft.datawrangler.viewer.v0+json": {
       "columns": [
        {
         "name": "index",
         "rawType": "int64",
         "type": "integer"
        },
        {
         "name": "Loan_ID",
         "rawType": "object",
         "type": "string"
        },
        {
         "name": "Gender",
         "rawType": "object",
         "type": "string"
        },
        {
         "name": "Married",
         "rawType": "object",
         "type": "string"
        },
        {
         "name": "Dependents",
         "rawType": "object",
         "type": "string"
        },
        {
         "name": "Education",
         "rawType": "object",
         "type": "string"
        },
        {
         "name": "Self_Employed",
         "rawType": "object",
         "type": "string"
        },
        {
         "name": "ApplicantIncome",
         "rawType": "int64",
         "type": "integer"
        },
        {
         "name": "CoapplicantIncome",
         "rawType": "int64",
         "type": "integer"
        },
        {
         "name": "LoanAmount",
         "rawType": "float64",
         "type": "float"
        },
        {
         "name": "Loan_Amount_Term",
         "rawType": "float64",
         "type": "float"
        },
        {
         "name": "Credit_History",
         "rawType": "float64",
         "type": "float"
        },
        {
         "name": "Property_Area",
         "rawType": "object",
         "type": "string"
        }
       ],
       "conversionMethod": "pd.DataFrame",
       "ref": "4ece5efe-23f4-4c7f-a235-62245e677b38",
       "rows": [
        [
         "0",
         "LP001015",
         "Male",
         "Yes",
         "0",
         "Graduate",
         "No",
         "5720",
         "0",
         "110.0",
         "360.0",
         "1.0",
         "Urban"
        ],
        [
         "1",
         "LP001022",
         "Male",
         "Yes",
         "1",
         "Graduate",
         "No",
         "3076",
         "1500",
         "126.0",
         "360.0",
         "1.0",
         "Urban"
        ],
        [
         "2",
         "LP001031",
         "Male",
         "Yes",
         "2",
         "Graduate",
         "No",
         "5000",
         "1800",
         "208.0",
         "360.0",
         "1.0",
         "Urban"
        ],
        [
         "3",
         "LP001035",
         "Male",
         "Yes",
         "2",
         "Graduate",
         "No",
         "2340",
         "2546",
         "100.0",
         "360.0",
         null,
         "Urban"
        ],
        [
         "4",
         "LP001051",
         "Male",
         "No",
         "0",
         "Not Graduate",
         "No",
         "3276",
         "0",
         "78.0",
         "360.0",
         "1.0",
         "Urban"
        ]
       ],
       "shape": {
        "columns": 12,
        "rows": 5
       }
      },
      "text/html": [
       "<div>\n",
       "<style scoped>\n",
       "    .dataframe tbody tr th:only-of-type {\n",
       "        vertical-align: middle;\n",
       "    }\n",
       "\n",
       "    .dataframe tbody tr th {\n",
       "        vertical-align: top;\n",
       "    }\n",
       "\n",
       "    .dataframe thead th {\n",
       "        text-align: right;\n",
       "    }\n",
       "</style>\n",
       "<table border=\"1\" class=\"dataframe\">\n",
       "  <thead>\n",
       "    <tr style=\"text-align: right;\">\n",
       "      <th></th>\n",
       "      <th>Loan_ID</th>\n",
       "      <th>Gender</th>\n",
       "      <th>Married</th>\n",
       "      <th>Dependents</th>\n",
       "      <th>Education</th>\n",
       "      <th>Self_Employed</th>\n",
       "      <th>ApplicantIncome</th>\n",
       "      <th>CoapplicantIncome</th>\n",
       "      <th>LoanAmount</th>\n",
       "      <th>Loan_Amount_Term</th>\n",
       "      <th>Credit_History</th>\n",
       "      <th>Property_Area</th>\n",
       "    </tr>\n",
       "  </thead>\n",
       "  <tbody>\n",
       "    <tr>\n",
       "      <th>0</th>\n",
       "      <td>LP001015</td>\n",
       "      <td>Male</td>\n",
       "      <td>Yes</td>\n",
       "      <td>0</td>\n",
       "      <td>Graduate</td>\n",
       "      <td>No</td>\n",
       "      <td>5720</td>\n",
       "      <td>0</td>\n",
       "      <td>110.0</td>\n",
       "      <td>360.0</td>\n",
       "      <td>1.0</td>\n",
       "      <td>Urban</td>\n",
       "    </tr>\n",
       "    <tr>\n",
       "      <th>1</th>\n",
       "      <td>LP001022</td>\n",
       "      <td>Male</td>\n",
       "      <td>Yes</td>\n",
       "      <td>1</td>\n",
       "      <td>Graduate</td>\n",
       "      <td>No</td>\n",
       "      <td>3076</td>\n",
       "      <td>1500</td>\n",
       "      <td>126.0</td>\n",
       "      <td>360.0</td>\n",
       "      <td>1.0</td>\n",
       "      <td>Urban</td>\n",
       "    </tr>\n",
       "    <tr>\n",
       "      <th>2</th>\n",
       "      <td>LP001031</td>\n",
       "      <td>Male</td>\n",
       "      <td>Yes</td>\n",
       "      <td>2</td>\n",
       "      <td>Graduate</td>\n",
       "      <td>No</td>\n",
       "      <td>5000</td>\n",
       "      <td>1800</td>\n",
       "      <td>208.0</td>\n",
       "      <td>360.0</td>\n",
       "      <td>1.0</td>\n",
       "      <td>Urban</td>\n",
       "    </tr>\n",
       "    <tr>\n",
       "      <th>3</th>\n",
       "      <td>LP001035</td>\n",
       "      <td>Male</td>\n",
       "      <td>Yes</td>\n",
       "      <td>2</td>\n",
       "      <td>Graduate</td>\n",
       "      <td>No</td>\n",
       "      <td>2340</td>\n",
       "      <td>2546</td>\n",
       "      <td>100.0</td>\n",
       "      <td>360.0</td>\n",
       "      <td>NaN</td>\n",
       "      <td>Urban</td>\n",
       "    </tr>\n",
       "    <tr>\n",
       "      <th>4</th>\n",
       "      <td>LP001051</td>\n",
       "      <td>Male</td>\n",
       "      <td>No</td>\n",
       "      <td>0</td>\n",
       "      <td>Not Graduate</td>\n",
       "      <td>No</td>\n",
       "      <td>3276</td>\n",
       "      <td>0</td>\n",
       "      <td>78.0</td>\n",
       "      <td>360.0</td>\n",
       "      <td>1.0</td>\n",
       "      <td>Urban</td>\n",
       "    </tr>\n",
       "  </tbody>\n",
       "</table>\n",
       "</div>"
      ],
      "text/plain": [
       "    Loan_ID Gender Married Dependents     Education Self_Employed  \\\n",
       "0  LP001015   Male     Yes          0      Graduate            No   \n",
       "1  LP001022   Male     Yes          1      Graduate            No   \n",
       "2  LP001031   Male     Yes          2      Graduate            No   \n",
       "3  LP001035   Male     Yes          2      Graduate            No   \n",
       "4  LP001051   Male      No          0  Not Graduate            No   \n",
       "\n",
       "   ApplicantIncome  CoapplicantIncome  LoanAmount  Loan_Amount_Term  \\\n",
       "0             5720                  0       110.0             360.0   \n",
       "1             3076               1500       126.0             360.0   \n",
       "2             5000               1800       208.0             360.0   \n",
       "3             2340               2546       100.0             360.0   \n",
       "4             3276                  0        78.0             360.0   \n",
       "\n",
       "   Credit_History Property_Area  \n",
       "0             1.0         Urban  \n",
       "1             1.0         Urban  \n",
       "2             1.0         Urban  \n",
       "3             NaN         Urban  \n",
       "4             1.0         Urban  "
      ]
     },
     "metadata": {},
     "output_type": "display_data"
    }
   ],
   "source": [
    "df_train = pd.read_csv('ressources/datasets/train_loans.csv')\n",
    "display(df_train.head())\n",
    "\n",
    "df_test = pd.read_csv('ressources/datasets/test_loans.csv')\n",
    "display(df_test.head())"
   ]
  },
  {
   "cell_type": "code",
   "execution_count": 189,
   "metadata": {},
   "outputs": [
    {
     "name": "stdout",
     "output_type": "stream",
     "text": [
      "<class 'pandas.core.frame.DataFrame'>\n",
      "RangeIndex: 614 entries, 0 to 613\n",
      "Data columns (total 13 columns):\n",
      " #   Column             Non-Null Count  Dtype  \n",
      "---  ------             --------------  -----  \n",
      " 0   Loan_ID            614 non-null    object \n",
      " 1   Gender             601 non-null    object \n",
      " 2   Married            611 non-null    object \n",
      " 3   Dependents         599 non-null    object \n",
      " 4   Education          614 non-null    object \n",
      " 5   Self_Employed      582 non-null    object \n",
      " 6   ApplicantIncome    614 non-null    int64  \n",
      " 7   CoapplicantIncome  614 non-null    float64\n",
      " 8   LoanAmount         592 non-null    float64\n",
      " 9   Loan_Amount_Term   600 non-null    float64\n",
      " 10  Credit_History     564 non-null    float64\n",
      " 11  Property_Area      614 non-null    object \n",
      " 12  Loan_Status        614 non-null    object \n",
      "dtypes: float64(4), int64(1), object(8)\n",
      "memory usage: 62.5+ KB\n"
     ]
    }
   ],
   "source": [
    "df_train.info()"
   ]
  },
  {
   "cell_type": "code",
   "execution_count": 190,
   "metadata": {},
   "outputs": [
    {
     "data": {
      "text/plain": [
       "Loan_ID               0\n",
       "Gender               13\n",
       "Married               3\n",
       "Dependents           15\n",
       "Education             0\n",
       "Self_Employed        32\n",
       "ApplicantIncome       0\n",
       "CoapplicantIncome     0\n",
       "LoanAmount           22\n",
       "Loan_Amount_Term     14\n",
       "Credit_History       50\n",
       "Property_Area         0\n",
       "Loan_Status           0\n",
       "dtype: int64"
      ]
     },
     "execution_count": 190,
     "metadata": {},
     "output_type": "execute_result"
    }
   ],
   "source": [
    "df_train.isnull().sum()"
   ]
  },
  {
   "cell_type": "code",
   "execution_count": 191,
   "metadata": {},
   "outputs": [
    {
     "name": "stdout",
     "output_type": "stream",
     "text": [
      "There is 134 rows with at least one missing value\n"
     ]
    }
   ],
   "source": [
    "nb_row = df_train.isnull().any(axis=1).sum()\n",
    "print(f\"There is {nb_row} rows with at least one missing value\")"
   ]
  },
  {
   "cell_type": "markdown",
   "metadata": {},
   "source": [
    "Some values are missing in the training dataset, specially for the credit history"
   ]
  },
  {
   "cell_type": "code",
   "execution_count": 192,
   "metadata": {},
   "outputs": [
    {
     "data": {
      "text/plain": [
       "Loan_ID               0\n",
       "Gender               11\n",
       "Married               0\n",
       "Dependents           10\n",
       "Education             0\n",
       "Self_Employed        23\n",
       "ApplicantIncome       0\n",
       "CoapplicantIncome     0\n",
       "LoanAmount            5\n",
       "Loan_Amount_Term      6\n",
       "Credit_History       29\n",
       "Property_Area         0\n",
       "dtype: int64"
      ]
     },
     "execution_count": 192,
     "metadata": {},
     "output_type": "execute_result"
    }
   ],
   "source": [
    "df_test.isnull().sum()"
   ]
  },
  {
   "cell_type": "code",
   "execution_count": null,
   "metadata": {},
   "outputs": [],
   "source": [
    "def fill_clean_variables(dataset):\n",
    "    # Get numerical and categorical datas\n",
    "    df_nb = dataset.select_dtypes(include=['int64', 'float64'])\n",
    "    df_ob = dataset.select_dtypes(include=['object'])\n",
    "\n",
    "    # Remove useless 'Load_ID' column\n",
    "    df_ob = df_ob.drop('Loan_ID', axis=1)\n",
    "\n",
    "    # Fill NaN numerical values with the mean one\n",
    "    df_nb = df_nb.fillna(df_nb.mean())\n",
    "\n",
    "    # Adapt Incomes variables in one column\n",
    "    df_nb['Total_Income'] = df_nb['ApplicantIncome'] + df_nb['CoapplicantIncome']\n",
    "    df_nb.drop(columns=['ApplicantIncome', 'CoapplicantIncome'], axis=1)\n",
    "\n",
    "    for column in df_ob.columns:\n",
    "        encoder = LabelEncoder()\n",
    "\n",
    "        # Fill NaN categorical value with the most repetitive one\n",
    "        if(df_ob[column].isnull().sum() > 0):\n",
    "            mode_value = df_ob[column].mode()[0]\n",
    "            df_ob[column] = df_ob[column].fillna(mode_value)\n",
    "\n",
    "        # Encode categorical values\n",
    "        df_ob[column] = encoder.fit_transform(df_ob[column].astype(str))\n",
    "\n",
    "    # Replace values from 'Loan_Status' by 0 or 1\n",
    "    if 'Loan_Status' in df_ob.columns:\n",
    "        df_ob['Loan_Status'] = df_ob['Loan_Status'].replace({'Y': 1, 'N': 0})\n",
    "        df_ob['Loan_Status'] = df_ob['Loan_Status'].infer_objects(copy=False)  # Retain old behavior\n",
    "\n",
    "    # For Property_Urban --> Rural: 0, Semiurban: 1, Urban: 2 \n",
    "        \n",
    "    # Concat numerical and categorical sub dataset\n",
    "    df_final = pd.concat([df_nb, df_ob], axis=1)\n",
    "    return df_final\n"
   ]
  },
  {
   "cell_type": "code",
   "execution_count": 217,
   "metadata": {},
   "outputs": [],
   "source": [
    "df_train_final = fill_clean_variables(df_train)\n",
    "df_test_final = fill_clean_variables(df_test)"
   ]
  },
  {
   "cell_type": "code",
   "execution_count": null,
   "metadata": {},
   "outputs": [
    {
     "data": {
      "application/vnd.microsoft.datawrangler.viewer.v0+json": {
       "columns": [
        {
         "name": "index",
         "rawType": "int64",
         "type": "integer"
        },
        {
         "name": "ApplicantIncome",
         "rawType": "int64",
         "type": "integer"
        },
        {
         "name": "CoapplicantIncome",
         "rawType": "float64",
         "type": "float"
        }
       ],
       "conversionMethod": "pd.DataFrame",
       "ref": "30f826f9-1c9b-4390-8848-5cc9396e9a44",
       "rows": [
        [
         "0",
         "5849",
         "0.0"
        ],
        [
         "1",
         "4583",
         "1508.0"
        ],
        [
         "2",
         "3000",
         "0.0"
        ]
       ],
       "shape": {
        "columns": 2,
        "rows": 3
       }
      },
      "text/html": [
       "<div>\n",
       "<style scoped>\n",
       "    .dataframe tbody tr th:only-of-type {\n",
       "        vertical-align: middle;\n",
       "    }\n",
       "\n",
       "    .dataframe tbody tr th {\n",
       "        vertical-align: top;\n",
       "    }\n",
       "\n",
       "    .dataframe thead th {\n",
       "        text-align: right;\n",
       "    }\n",
       "</style>\n",
       "<table border=\"1\" class=\"dataframe\">\n",
       "  <thead>\n",
       "    <tr style=\"text-align: right;\">\n",
       "      <th></th>\n",
       "      <th>ApplicantIncome</th>\n",
       "      <th>CoapplicantIncome</th>\n",
       "    </tr>\n",
       "  </thead>\n",
       "  <tbody>\n",
       "    <tr>\n",
       "      <th>0</th>\n",
       "      <td>5849</td>\n",
       "      <td>0.0</td>\n",
       "    </tr>\n",
       "    <tr>\n",
       "      <th>1</th>\n",
       "      <td>4583</td>\n",
       "      <td>1508.0</td>\n",
       "    </tr>\n",
       "    <tr>\n",
       "      <th>2</th>\n",
       "      <td>3000</td>\n",
       "      <td>0.0</td>\n",
       "    </tr>\n",
       "  </tbody>\n",
       "</table>\n",
       "</div>"
      ],
      "text/plain": [
       "   ApplicantIncome  CoapplicantIncome\n",
       "0             5849                0.0\n",
       "1             4583             1508.0\n",
       "2             3000                0.0"
      ]
     },
     "metadata": {},
     "output_type": "display_data"
    },
    {
     "data": {
      "text/plain": [
       "0    5849.0\n",
       "1    6091.0\n",
       "2    3000.0\n",
       "Name: Total_Income, dtype: float64"
      ]
     },
     "metadata": {},
     "output_type": "display_data"
    }
   ],
   "source": [
    "# standardisé valeurs numériques ?\n"
   ]
  },
  {
   "cell_type": "code",
   "execution_count": 210,
   "metadata": {},
   "outputs": [
    {
     "data": {
      "application/vnd.microsoft.datawrangler.viewer.v0+json": {
       "columns": [
        {
         "name": "index",
         "rawType": "int64",
         "type": "integer"
        },
        {
         "name": "ApplicantIncome",
         "rawType": "int64",
         "type": "integer"
        },
        {
         "name": "ApplicantIncomeLog",
         "rawType": "float64",
         "type": "float"
        }
       ],
       "conversionMethod": "pd.DataFrame",
       "ref": "d3c9c130-8aa6-43ce-8931-2cd024c9f854",
       "rows": [
        [
         "0",
         "5849",
         "8.674196940225903"
        ],
        [
         "1",
         "4583",
         "8.430327258394575"
        ],
        [
         "2",
         "3000",
         "8.006700845440367"
        ],
        [
         "3",
         "2583",
         "7.857093864902493"
        ],
        [
         "4",
         "6000",
         "8.699681400989514"
        ],
        [
         "5",
         "5417",
         "8.59748202264504"
        ],
        [
         "6",
         "2333",
         "7.755338812846501"
        ],
        [
         "7",
         "3036",
         "8.01862546504575"
        ],
        [
         "8",
         "4006",
         "8.295798110636145"
        ],
        [
         "9",
         "12841",
         "9.460476328353995"
        ],
        [
         "10",
         "3200",
         "8.071218539969863"
        ],
        [
         "11",
         "2500",
         "7.824445930877619"
        ],
        [
         "12",
         "3073",
         "8.03073492409854"
        ],
        [
         "13",
         "1853",
         "7.5251007461258"
        ],
        [
         "14",
         "1299",
         "7.170119543449628"
        ],
        [
         "15",
         "4950",
         "8.507344855361422"
        ],
        [
         "16",
         "3596",
         "8.187855443695623"
        ],
        [
         "17",
         "3510",
         "8.163656176168432"
        ],
        [
         "18",
         "4887",
         "8.494538500851432"
        ],
        [
         "19",
         "2600",
         "7.8636512654486515"
        ],
        [
         "20",
         "7660",
         "8.94389780251682"
        ],
        [
         "21",
         "5955",
         "8.6921543938039"
        ],
        [
         "22",
         "2600",
         "7.8636512654486515"
        ],
        [
         "23",
         "3365",
         "8.121480374750751"
        ],
        [
         "24",
         "3717",
         "8.220941168281389"
        ],
        [
         "25",
         "9560",
         "9.165447603085447"
        ],
        [
         "26",
         "2799",
         "7.937374696163295"
        ],
        [
         "27",
         "4226",
         "8.34924780056679"
        ],
        [
         "28",
         "1442",
         "7.274479558773871"
        ],
        [
         "29",
         "3750",
         "8.229777750081887"
        ],
        [
         "30",
         "4166",
         "8.334951631422454"
        ],
        [
         "31",
         "3167",
         "8.060855752934316"
        ],
        [
         "32",
         "4692",
         "8.453827315794417"
        ],
        [
         "33",
         "3500",
         "8.160803920954665"
        ],
        [
         "34",
         "12500",
         "9.433563920090563"
        ],
        [
         "35",
         "2275",
         "7.730174795246222"
        ],
        [
         "36",
         "1828",
         "7.511524648390866"
        ],
        [
         "37",
         "3667",
         "8.207401833376355"
        ],
        [
         "38",
         "4166",
         "8.334951631422454"
        ],
        [
         "39",
         "3748",
         "8.229244416735913"
        ],
        [
         "40",
         "3600",
         "8.188966863648876"
        ],
        [
         "41",
         "1800",
         "7.496097345175956"
        ],
        [
         "42",
         "2400",
         "7.783640596221253"
        ],
        [
         "43",
         "3941",
         "8.279443487712665"
        ],
        [
         "44",
         "4695",
         "8.454466361507933"
        ],
        [
         "45",
         "3410",
         "8.134760782418645"
        ],
        [
         "46",
         "5649",
         "8.639410824140487"
        ],
        [
         "47",
         "5821",
         "8.669399124305569"
        ],
        [
         "48",
         "2645",
         "7.880804344674901"
        ],
        [
         "49",
         "4000",
         "8.294299608857235"
        ]
       ],
       "shape": {
        "columns": 2,
        "rows": 614
       }
      },
      "text/html": [
       "<div>\n",
       "<style scoped>\n",
       "    .dataframe tbody tr th:only-of-type {\n",
       "        vertical-align: middle;\n",
       "    }\n",
       "\n",
       "    .dataframe tbody tr th {\n",
       "        vertical-align: top;\n",
       "    }\n",
       "\n",
       "    .dataframe thead th {\n",
       "        text-align: right;\n",
       "    }\n",
       "</style>\n",
       "<table border=\"1\" class=\"dataframe\">\n",
       "  <thead>\n",
       "    <tr style=\"text-align: right;\">\n",
       "      <th></th>\n",
       "      <th>ApplicantIncome</th>\n",
       "      <th>ApplicantIncomeLog</th>\n",
       "    </tr>\n",
       "  </thead>\n",
       "  <tbody>\n",
       "    <tr>\n",
       "      <th>0</th>\n",
       "      <td>5849</td>\n",
       "      <td>8.674197</td>\n",
       "    </tr>\n",
       "    <tr>\n",
       "      <th>1</th>\n",
       "      <td>4583</td>\n",
       "      <td>8.430327</td>\n",
       "    </tr>\n",
       "    <tr>\n",
       "      <th>2</th>\n",
       "      <td>3000</td>\n",
       "      <td>8.006701</td>\n",
       "    </tr>\n",
       "    <tr>\n",
       "      <th>3</th>\n",
       "      <td>2583</td>\n",
       "      <td>7.857094</td>\n",
       "    </tr>\n",
       "    <tr>\n",
       "      <th>4</th>\n",
       "      <td>6000</td>\n",
       "      <td>8.699681</td>\n",
       "    </tr>\n",
       "    <tr>\n",
       "      <th>...</th>\n",
       "      <td>...</td>\n",
       "      <td>...</td>\n",
       "    </tr>\n",
       "    <tr>\n",
       "      <th>609</th>\n",
       "      <td>2900</td>\n",
       "      <td>7.972811</td>\n",
       "    </tr>\n",
       "    <tr>\n",
       "      <th>610</th>\n",
       "      <td>4106</td>\n",
       "      <td>8.320448</td>\n",
       "    </tr>\n",
       "    <tr>\n",
       "      <th>611</th>\n",
       "      <td>8072</td>\n",
       "      <td>8.996280</td>\n",
       "    </tr>\n",
       "    <tr>\n",
       "      <th>612</th>\n",
       "      <td>7583</td>\n",
       "      <td>8.933796</td>\n",
       "    </tr>\n",
       "    <tr>\n",
       "      <th>613</th>\n",
       "      <td>4583</td>\n",
       "      <td>8.430327</td>\n",
       "    </tr>\n",
       "  </tbody>\n",
       "</table>\n",
       "<p>614 rows × 2 columns</p>\n",
       "</div>"
      ],
      "text/plain": [
       "     ApplicantIncome  ApplicantIncomeLog\n",
       "0               5849            8.674197\n",
       "1               4583            8.430327\n",
       "2               3000            8.006701\n",
       "3               2583            7.857094\n",
       "4               6000            8.699681\n",
       "..               ...                 ...\n",
       "609             2900            7.972811\n",
       "610             4106            8.320448\n",
       "611             8072            8.996280\n",
       "612             7583            8.933796\n",
       "613             4583            8.430327\n",
       "\n",
       "[614 rows x 2 columns]"
      ]
     },
     "metadata": {},
     "output_type": "display_data"
    }
   ],
   "source": [
    "display(df_train[['ApplicantIncome', 'ApplicantIncomeLog']])"
   ]
  }
 ],
 "metadata": {
  "kernelspec": {
   "display_name": "env",
   "language": "python",
   "name": "python3"
  },
  "language_info": {
   "codemirror_mode": {
    "name": "ipython",
    "version": 3
   },
   "file_extension": ".py",
   "mimetype": "text/x-python",
   "name": "python",
   "nbconvert_exporter": "python",
   "pygments_lexer": "ipython3",
   "version": "3.11.9"
  }
 },
 "nbformat": 4,
 "nbformat_minor": 2
}
